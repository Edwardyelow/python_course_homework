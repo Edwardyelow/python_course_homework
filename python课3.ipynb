{
 "cells": [
  {
   "cell_type": "code",
   "execution_count": 7,
   "metadata": {},
   "outputs": [
    {
     "name": "stdout",
     "output_type": "stream",
     "text": [
      "请输入第一个数：5.2\n",
      "请输入第二个数：8.6\n",
      "请输入第三个数：7.9\n",
      "8.6 > 7.9 > 5.2\n"
     ]
    }
   ],
   "source": [
    "#通过键盘输入3个数a、b、c，按由小到大的顺序输出。\n",
    "a = float(input('请输入第一个数：'))\n",
    "b = float(input('请输入第二个数：'))\n",
    "c = float(input('请输入第三个数：'))\n",
    "if a > b:\n",
    "    if b > c:\n",
    "        z = a\n",
    "        y = b\n",
    "        x = c\n",
    "    else:\n",
    "        if a > c:\n",
    "            z = a\n",
    "            y = c\n",
    "            x = b\n",
    "        else:\n",
    "            z = c\n",
    "            y = a\n",
    "            x = b\n",
    "else:\n",
    "    if a > c:\n",
    "        z = b\n",
    "        y = a\n",
    "        x = c\n",
    "    else:\n",
    "        if b > c:\n",
    "            z = b\n",
    "            y = c\n",
    "            x = a\n",
    "        else:\n",
    "            z = c\n",
    "            y = b\n",
    "            x = a\n",
    "print('%0.1f > %0.1f > %0.1f' %(z,y,x))"
   ]
  },
  {
   "cell_type": "code",
   "execution_count": 18,
   "metadata": {},
   "outputs": [
    {
     "name": "stdout",
     "output_type": "stream",
     "text": [
      "总所周知：ax²+bx+c=0\n",
      "请输入a：1\n",
      "请输入b：-2\n",
      "请输入c：1\n",
      "恰有一根: 1.00\n"
     ]
    }
   ],
   "source": [
    "import math\n",
    "print('总所周知：ax²+bx+c=0')\n",
    "a = float(input(\"请输入a：\"))\n",
    "b = float(input(\"请输入b：\"))\n",
    "c = float(input(\"请输入c：\"))\n",
    "delta = b**2-4*a*c\n",
    "\n",
    "x1= (-b+root)/(2*a)\n",
    "x2= (-b-root)/(2*a)\n",
    "if delta < 0:\n",
    "     print('无根哦')\n",
    "else:\n",
    "    root = math.sqrt(b**2-4*a*c)\n",
    "    if delta == 0:\n",
    "        print('恰有一根: %0.2f'%(x1))\n",
    "    else:\n",
    "        print('有两根: %0.2f, %0.2f' %(x1,x2))"
   ]
  },
  {
   "cell_type": "code",
   "execution_count": 21,
   "metadata": {},
   "outputs": [
    {
     "name": "stdout",
     "output_type": "stream",
     "text": [
      "请输入x：-666666\n",
      "-1\n"
     ]
    }
   ],
   "source": [
    "x = float(input(\"请输入x：\"))\n",
    "if x == 0:\n",
    "    y = 0\n",
    "elif x > 0:\n",
    "    y = 1\n",
    "else:\n",
    "    y = -1\n",
    "print(y)"
   ]
  },
  {
   "cell_type": "code",
   "execution_count": 22,
   "metadata": {},
   "outputs": [
    {
     "name": "stdout",
     "output_type": "stream",
     "text": [
      "Welcome to my Change Calculator!\n",
      "\n",
      "Please, enter the total of the purchase: 500\n",
      "Please, enter the amount given by the customer: 300\n",
      "the amont of money paid cannot be smaller than the purchasetotal!\n",
      "Please, enter the total of the purchase: 500\n",
      "Please, enter the amount given by the customer: 400\n",
      "the amont of money paid cannot be smaller than the purchasetotal!\n",
      "Please, enter the total of the purchase: 500\n",
      "Please, enter the amount given by the customer: 600\n",
      "The total of the purchase is $500.00.\n",
      "The customer paid $600.00. \n",
      "The cashier gives $100.00 back to the customer in the following fashion: \n",
      "\t10 x $10.00\n",
      "\t0 x $ 5.00\n",
      "\t0 x $ 2.00\n",
      "\t0 x $ 1.00\n",
      "\t0 x $ 0.25\n",
      "\t0 x $ 0.10\n",
      "\t0 x $ 0.05\n",
      "----\n",
      "\n"
     ]
    }
   ],
   "source": [
    "# Assn1_Change_Calculator.py\n",
    "#\n",
    "# Description: This Assignment 1 Change Calculator Pythom program figures out the\n",
    "#              change to be given back to the customer such that it gives the\n",
    "#              maximum number of $10 bills, then the maximum number of $5 bills,\n",
    "#              then the maximum number of toonies, down to the number of $0.05 (nickel).\n",
    "print('Welcome to my Change Calculator!\\n')\n",
    "# Set up our money variables\n",
    "centValueOfTenDollarBill = 1000\n",
    "centValueOfFiveDollarBill = 500\n",
    "centValueOfToonie = 200\n",
    "centValueOfLoonie = 100\n",
    "centValueOfQuarter = 25\n",
    "centValueOfDime = 10\n",
    "centValueOfNickel = 5\n",
    "# Set up our variables\n",
    "purchaseTotal = 12.50  # Purchase costs $12.50                     \n",
    "moneyPaid = 20.00      # Customer gives cashier $20.00\n",
    "# Set up the variable purchaseTotal by asking the user for the total of purchase   \n",
    "purchaseTotal = float(input('Please, enter the total of the purchase: '))\n",
    "# Set up the variable moneyPaid by asking the user for the money the customer has given to pay for the purchase\n",
    "moneyPaid = float(input('Please, enter the amount given by the customer: '))\n",
    "# Figure out the change\n",
    "change = moneyPaid - purchaseTotal\n",
    "while change < 0:\n",
    "    print('the amont of money paid cannot be smaller than the purchasetotal!')\n",
    "    purchaseTotal = float(input('Please, enter the total of the purchase: '))\n",
    "    moneyPaid = float(input('Please, enter the amount given by the customer: '))\n",
    "    change = moneyPaid - purchaseTotal\n",
    "# Echo input data to user\n",
    "print(\"\"\"The total of the purchase is $%0.2f.\n",
    "The customer paid $%0.2f. \n",
    "The cashier gives $%0.2f back to the customer in the following fashion: \"\"\" %(purchaseTotal, moneyPaid, change))\n",
    "#Convert dollars into cents to facilitate the computation\n",
    "purchaseTotalInCents = purchaseTotal * 100\n",
    "moneyPaidInCents = moneyPaid * 100\n",
    "changeInCents = change * 100 \n",
    "# Determine # of $10 to be given back as part of the change\n",
    "numberOfTenDollarBills = changeInCents // centValueOfTenDollarBill\n",
    "changeInCents = changeInCents % centValueOfTenDollarBill\n",
    "# Determine # of $5 to be given back as part of the change\n",
    "numberOfFiveDollarBills = changeInCents // centValueOfFiveDollarBill\n",
    "changeInCents %= centValueOfFiveDollarBill\n",
    "# Determine # of $2 (toonies) to be given back as part of the change\n",
    "numberOfToonieCoins = changeInCents // centValueOfToonie\n",
    "changeInCents %= centValueOfToonie\n",
    "# Determine # of $1 (loonies) to be given back as part of the change\n",
    "numberOfLoonieCoins = changeInCents // centValueOfLoonie\n",
    "changeInCents %= centValueOfLoonie\n",
    "# Determine # of $0.25 (quarters) to be given back as part of the change\n",
    "numberOfQuarterCoins = changeInCents // centValueOfQuarter\n",
    "changeInCents %= centValueOfQuarter\n",
    "# Determine # of $0.10 (dimes) to be given back as part of the change\n",
    "numberOfDimeCoins = changeInCents // centValueOfDime\n",
    "changeInCents %= centValueOfDime \n",
    "# At this point, changeInCents can either be\n",
    "# 5 -> 1 x $0.05 (nickels) or\n",
    "# 0 -> 0 x $0.05 (nickels)\n",
    "numberOfNickelCoins = changeInCents // centValueOfNickel\n",
    "# Output the result: change cashier needs to give back to customer\n",
    "print(\"\\t%i x $10.00\" %numberOfTenDollarBills)\n",
    "print(\"\\t%i x $ 5.00\" %numberOfFiveDollarBills)\n",
    "print(\"\\t%i x $ 2.00\" %numberOfToonieCoins)\n",
    "print(\"\\t%i x $ 1.00\" %numberOfToonieCoins)\n",
    "print(\"\\t%i x $ 0.25\" %numberOfQuarterCoins)\n",
    "print(\"\\t%i x $ 0.10\" %numberOfDimeCoins)\n",
    "print(\"\\t%i x $ 0.05\" %numberOfNickelCoins)\n",
    "# Indicates the end of execution\n",
    "print(\"----\\n\")"
   ]
  },
  {
   "cell_type": "code",
   "execution_count": 30,
   "metadata": {},
   "outputs": [
    {
     "name": "stdout",
     "output_type": "stream",
     "text": [
      "请键入一个字符：d\n",
      "请键入一个字符：s\n",
      "请键入一个字符：b\n",
      "请键入一个字符：g\n",
      "请键入一个字符：f\n",
      "请键入一个字符：h\n",
      "dsbgfh\n"
     ]
    }
   ],
   "source": [
    "A = ''\n",
    "a = input('请键入一个字符：')\n",
    "while a != 'h':\n",
    "    A = A + a\n",
    "    a = input('请键入一个字符：')\n",
    "    if a == 'h':\n",
    "        A = A + a\n",
    "        break\n",
    "print(A)"
   ]
  },
  {
   "cell_type": "code",
   "execution_count": 46,
   "metadata": {},
   "outputs": [
    {
     "name": "stdout",
     "output_type": "stream",
     "text": [
      " 1   2   3   4   5   6   7   8   9  \n",
      "   4   6   8  10  12  14  16  18  \n",
      "     9  12  15  18  21  24  27  \n",
      "      16  20  24  28  32  36  \n",
      "        25  30  35  40  45  \n",
      "          36  42  48  54  \n",
      "            49  56  63  \n",
      "              64  72  \n",
      "                81  \n"
     ]
    }
   ],
   "source": [
    "for i in range(1,10):\n",
    "    for k in range(1,i):\n",
    "        print(end='  ')\n",
    "    for j in range(i,10):\n",
    "        z = i*j\n",
    "        print('%2d' % (z),end='  ')\n",
    "    print()"
   ]
  },
  {
   "cell_type": "code",
   "execution_count": 70,
   "metadata": {},
   "outputs": [
    {
     "name": "stdout",
     "output_type": "stream",
     "text": [
      "          * \n",
      "        * * * \n",
      "      * * * * * \n",
      "    * * * * * * * \n",
      "  * * * * * * * * * \n"
     ]
    }
   ],
   "source": [
    "a = 1\n",
    "while a <= 9:\n",
    "    b =0\n",
    "    c =1\n",
    "    while b <= 9-a:\n",
    "        print(' ' ,end=' ')\n",
    "        b += 2\n",
    "    while c <=a:\n",
    "        print('*',end=' ')\n",
    "        c += 1\n",
    "    print()\n",
    "    a += 2"
   ]
  },
  {
   "cell_type": "code",
   "execution_count": 2,
   "metadata": {
    "scrolled": true
   },
   "outputs": [],
   "source": [
    "#编程实现机械式ofo车锁密码测试程序。\n",
    "import numpy as np\n",
    "import random\n",
    "a1 = np.arange(97,123)\n",
    "small = [chr(i) for i in a1]\n",
    "a2 = np.arange(65,91)\n",
    "capital = [chr(i) for i in a2]\n",
    "letters = small +capital\n",
    "numbers = []\n",
    "for i in range(10):\n",
    "    numbers.append(i)\n",
    "field = letters + numbers"
   ]
  },
  {
   "cell_type": "code",
   "execution_count": 5,
   "metadata": {},
   "outputs": [],
   "source": [
    "def exam():\n",
    "    a = str(random.choice(field))\n",
    "    b = str(random.choice(field))\n",
    "    c = str(random.choice(field))\n",
    "    d = str(random.choice(field))\n",
    "    standard =a+b+c+d\n",
    "    print('验证码为:' + standard)\n",
    "    im = str(input('请输入验证码:'))\n",
    "    while im != standard:\n",
    "        print('验证码错误，认证失败，请重新输入！')\n",
    "        im = str(input('请输入验证码:'))\n",
    "        if im == standard:\n",
    "            print('认证成功，自行车已经解锁！')"
   ]
  },
  {
   "cell_type": "code",
   "execution_count": 6,
   "metadata": {},
   "outputs": [
    {
     "name": "stdout",
     "output_type": "stream",
     "text": [
      "验证码为:p6y3\n",
      "请输入验证码:SDF\n",
      "验证码错误，认证失败，请重新输入！\n",
      "请输入验证码:JKLJ\n",
      "验证码错误，认证失败，请重新输入！\n",
      "请输入验证码:JKLJ\n",
      "验证码错误，认证失败，请重新输入！\n",
      "请输入验证码:p6y3\n",
      "认证成功，自行车已经解锁！\n"
     ]
    }
   ],
   "source": [
    "exam()"
   ]
  },
  {
   "cell_type": "code",
   "execution_count": 77,
   "metadata": {
    "scrolled": true
   },
   "outputs": [
    {
     "name": "stdout",
     "output_type": "stream",
     "text": [
      "a=0.00, b=2.00\n",
      "a=0.01, b=1.99\n",
      "a=0.02, b=1.98\n",
      "a=0.03, b=1.97\n",
      "a=0.04, b=1.96\n",
      "a=0.05, b=1.95\n",
      "a=0.06, b=1.94\n",
      "a=0.07, b=1.93\n",
      "a=0.08, b=1.92\n",
      "a=0.09, b=1.91\n",
      "a=0.10, b=1.90\n",
      "a=0.11, b=1.89\n",
      "a=0.12, b=1.88\n",
      "a=0.13, b=1.87\n",
      "a=0.14, b=1.86\n",
      "a=0.15, b=1.85\n",
      "a=0.16, b=1.84\n",
      "a=0.17, b=1.83\n",
      "a=0.18, b=1.82\n",
      "a=0.19, b=1.81\n",
      "a=0.20, b=1.80\n",
      "a=0.21, b=1.79\n",
      "a=0.22, b=1.78\n",
      "a=0.23, b=1.77\n",
      "a=0.24, b=1.76\n",
      "a=0.25, b=1.75\n",
      "a=0.26, b=1.74\n",
      "a=0.27, b=1.73\n",
      "a=0.28, b=1.72\n",
      "a=0.29, b=1.71\n",
      "a=0.30, b=1.70\n",
      "a=0.31, b=1.69\n",
      "a=0.32, b=1.68\n",
      "a=0.33, b=1.67\n",
      "a=0.34, b=1.66\n",
      "a=0.35, b=1.65\n",
      "a=0.36, b=1.64\n",
      "a=0.37, b=1.63\n",
      "a=0.38, b=1.62\n",
      "a=0.39, b=1.61\n",
      "a=0.40, b=1.60\n",
      "a=0.41, b=1.59\n",
      "a=0.42, b=1.58\n",
      "a=0.43, b=1.57\n",
      "a=0.44, b=1.56\n",
      "a=0.45, b=1.55\n",
      "a=0.46, b=1.54\n",
      "a=0.47, b=1.53\n",
      "a=0.48, b=1.52\n",
      "a=0.49, b=1.51\n",
      "a=0.50, b=1.50\n",
      "a=0.51, b=1.49\n",
      "a=0.52, b=1.48\n",
      "a=0.53, b=1.47\n",
      "a=0.54, b=1.46\n",
      "a=0.55, b=1.45\n",
      "a=0.56, b=1.44\n",
      "a=0.57, b=1.43\n",
      "a=0.58, b=1.42\n",
      "a=0.59, b=1.41\n",
      "a=0.60, b=1.40\n",
      "a=0.61, b=1.39\n",
      "a=0.62, b=1.38\n",
      "a=0.63, b=1.37\n",
      "a=0.64, b=1.36\n",
      "a=0.65, b=1.35\n",
      "a=0.66, b=1.34\n",
      "a=0.67, b=1.33\n",
      "a=0.68, b=1.32\n",
      "a=0.69, b=1.31\n",
      "a=0.70, b=1.30\n",
      "a=0.71, b=1.29\n",
      "a=0.72, b=1.28\n",
      "a=0.73, b=1.27\n",
      "a=0.74, b=1.26\n",
      "a=0.75, b=1.25\n",
      "a=0.76, b=1.24\n",
      "a=0.77, b=1.23\n",
      "a=0.78, b=1.22\n",
      "a=0.79, b=1.21\n",
      "a=0.80, b=1.20\n",
      "a=0.81, b=1.19\n",
      "a=0.82, b=1.18\n",
      "a=0.83, b=1.17\n",
      "a=0.84, b=1.16\n",
      "a=0.85, b=1.15\n",
      "a=0.86, b=1.14\n",
      "a=0.87, b=1.13\n",
      "a=0.88, b=1.12\n",
      "a=0.89, b=1.11\n",
      "a=0.90, b=1.10\n",
      "a=0.91, b=1.09\n",
      "a=0.92, b=1.08\n",
      "a=0.93, b=1.07\n",
      "a=0.94, b=1.06\n",
      "a=0.95, b=1.05\n",
      "a=0.96, b=1.04\n",
      "a=0.97, b=1.03\n",
      "a=0.98, b=1.02\n",
      "a=0.99, b=1.01\n",
      "a=1.00, b=1.00\n"
     ]
    }
   ],
   "source": [
    "#使用枚举的方式求解方程 a + b = 2\n",
    "#其中 a的取值范围 [0,1] \n",
    "#b的取值范围[1,2]\n",
    "#将可能的结果输出。(精确到小数点后两位)\n",
    "a = 0\n",
    "b = 0\n",
    "while a <= 1.01:\n",
    "    b = 2-a\n",
    "    print('a=%.2f, b=%.2f' %(a,b))\n",
    "    a += 0.01"
   ]
  },
  {
   "cell_type": "code",
   "execution_count": 75,
   "metadata": {},
   "outputs": [
    {
     "name": "stdout",
     "output_type": "stream",
     "text": [
      "请输入本月利润（单位：万）：24\n",
      "本月奖金为：1.770万元\n"
     ]
    }
   ],
   "source": [
    "I=float(input('请输入本月利润（单位：万）：'))\n",
    "Bonus = 0\n",
    "if I <= 10:\n",
    "    Bonus = 0.1*I\n",
    "elif I > 10 and I < 20:\n",
    "    Bonus = 0.1*10 + 0.075*(I-10)\n",
    "elif I >= 20 and I < 40:\n",
    "    Bonus = 0.1*10 + 0.075*10 + 0.005*(I-20)\n",
    "elif I >= 40 and I < 60:\n",
    "    Bonus = 0.1*10 + 0.075*10 + 0.005*20 + 0.003(I-40)\n",
    "elif I >= 60 and I < 100:\n",
    "    Bonus = 0.1*10 + 0.075*10 + 0.005*20 + 0.003*20 + 0.0015*(I-60)\n",
    "elif I >= 100:\n",
    "    Bonus = 0.1*10 + 0.075*10 + 0.005*20 + 0.003*20 + 0.0015*40 + 0.001*(I-100)\n",
    "print('本月奖金为：%0.3f万元' %(Bonus))"
   ]
  },
  {
   "cell_type": "code",
   "execution_count": null,
   "metadata": {},
   "outputs": [],
   "source": []
  }
 ],
 "metadata": {
  "kernelspec": {
   "display_name": "Python 3",
   "language": "python",
   "name": "python3"
  },
  "language_info": {
   "codemirror_mode": {
    "name": "ipython",
    "version": 3
   },
   "file_extension": ".py",
   "mimetype": "text/x-python",
   "name": "python",
   "nbconvert_exporter": "python",
   "pygments_lexer": "ipython3",
   "version": "3.7.6"
  }
 },
 "nbformat": 4,
 "nbformat_minor": 4
}
